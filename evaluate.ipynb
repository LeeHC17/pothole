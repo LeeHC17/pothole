{
  "nbformat": 4,
  "nbformat_minor": 0,
  "metadata": {
    "colab": {
      "name": "evaluate.ipynb",
      "provenance": [],
      "collapsed_sections": [],
      "machine_shape": "hm",
      "authorship_tag": "ABX9TyPcTIF4CzTPDI6CSnb+jDMc",
      "include_colab_link": true
    },
    "kernelspec": {
      "name": "python3",
      "display_name": "Python 3"
    },
    "language_info": {
      "name": "python"
    }
  },
  "cells": [
    {
      "cell_type": "markdown",
      "metadata": {
        "id": "view-in-github",
        "colab_type": "text"
      },
      "source": [
        "<a href=\"https://colab.research.google.com/github/LeeHC17/pothole/blob/main/evaluate.ipynb\" target=\"_parent\"><img src=\"https://colab.research.google.com/assets/colab-badge.svg\" alt=\"Open In Colab\"/></a>"
      ]
    },
    {
      "cell_type": "code",
      "metadata": {
        "colab": {
          "base_uri": "https://localhost:8080/"
        },
        "id": "5IKEaE6e1nxs",
        "outputId": "876fc4f8-8b29-4b29-c08f-4dd3a8b55968"
      },
      "source": [
        "from google.colab import drive\n",
        "drive.mount('/content/drive')"
      ],
      "execution_count": null,
      "outputs": [
        {
          "output_type": "stream",
          "name": "stdout",
          "text": [
            "Drive already mounted at /content/drive; to attempt to forcibly remount, call drive.mount(\"/content/drive\", force_remount=True).\n"
          ]
        }
      ]
    },
    {
      "cell_type": "code",
      "metadata": {
        "colab": {
          "base_uri": "https://localhost:8080/"
        },
        "id": "GXVFRGsd1qKs",
        "outputId": "b2db63b4-a87b-4d20-c1bb-738e400912da"
      },
      "source": [
        "cd drive/MyDrive/빅데이터및AI/"
      ],
      "execution_count": null,
      "outputs": [
        {
          "output_type": "stream",
          "name": "stdout",
          "text": [
            "[Errno 2] No such file or directory: 'drive/MyDrive/빅데이터및AI/'\n",
            "/content/drive/MyDrive/빅데이터및AI\n"
          ]
        }
      ]
    },
    {
      "cell_type": "code",
      "metadata": {
        "id": "INojWqj32yeP",
        "colab": {
          "base_uri": "https://localhost:8080/"
        },
        "outputId": "a650ed57-fdc3-4eef-f2ca-b265dcb30c43"
      },
      "source": [
        "import tensorflow as tf\n",
        "import glob\n",
        "import argparse\n",
        "import os\n",
        "import numpy as np\n",
        "\n",
        "#parser = argparse.ArgumentParser()\n",
        "#parser.add_argument(\"--input_dir\", type=str)\n",
        "\n",
        "#args = parser.parse_args()\n",
        "\n",
        "#input_dir = args.input_dir\n",
        "input_dir = 'dt'\n",
        "\n",
        "# input_dir을 인자로 받아 Test Dataset 불러오기 (직접 작성)\n",
        "test_ds = glob.glob(os.path.join(input_dir, \"*.npy\"))\n",
        "\n",
        "model_paths = glob.glob(os.path.join(\"saved_models\", \"*.h5\"))\n",
        "with open(\"result.txt\", \"a\") as f:\n",
        "  cnt = 0\n",
        "  for model_path in model_paths:\n",
        "    model = tf.keras.models.load_model(model_path)\n",
        "    # test_img와 test_label은 직접 불러올 것.\n",
        "    test_img = np.load(test_ds[0])\n",
        "    test_label = np.load(test_ds[1])\n",
        "\n",
        "    result = model.evaluate(test_img, test_label, return_dict=True)\n",
        "    accu = result[\"accuracy\"]\n",
        "    print(f\"{model_path}\\t{accu}\")\n",
        "    f.write(f\"{model_path}\\t{accu}\\n\")\n",
        "    if cnt >= 9:\n",
        "      break\n",
        "    cnt += 1"
      ],
      "execution_count": null,
      "outputs": [
        {
          "output_type": "stream",
          "name": "stdout",
          "text": [
            "9/9 [==============================] - 9s 1s/step - loss: 4.9159 - accuracy: 0.3653\n",
            "saved_models/model_1.h5\t0.36531364917755127\n",
            "9/9 [==============================] - 11s 1s/step - loss: 12.6887 - accuracy: 0.3579\n",
            "saved_models/model_2.h5\t0.35793358087539673\n",
            "9/9 [==============================] - 16s 2s/step - loss: 2.1668 - accuracy: 0.3542\n",
            "saved_models/model_3.h5\t0.35424354672431946\n",
            "9/9 [==============================] - 24s 3s/step - loss: 1.3508 - accuracy: 0.3727\n",
            "saved_models/model_4.h5\t0.3726937174797058\n",
            "9/9 [==============================] - 7s 730ms/step - loss: 2.1795 - accuracy: 0.3321\n",
            "saved_models/model_5.h5\t0.33210331201553345\n",
            "9/9 [==============================] - 7s 756ms/step - loss: 2.8182 - accuracy: 0.3469\n",
            "saved_models/model_6.h5\t0.3468634784221649\n",
            "9/9 [==============================] - 8s 754ms/step - loss: 1.3139 - accuracy: 0.2509\n",
            "saved_models/model_7.h5\t0.2509225010871887\n"
          ]
        }
      ]
    },
    {
      "cell_type": "code",
      "metadata": {
        "id": "9d05QDOg1-E0"
      },
      "source": [
        ""
      ],
      "execution_count": null,
      "outputs": []
    }
  ]
}